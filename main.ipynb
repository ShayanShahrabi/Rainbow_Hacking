{
 "cells": [
  {
   "cell_type": "markdown",
   "metadata": {},
   "source": [
    "### Necessary Imports"
   ]
  },
  {
   "cell_type": "code",
   "execution_count": 2,
   "metadata": {},
   "outputs": [],
   "source": [
    "import hashlib\n",
    "import csv\n",
    "import random"
   ]
  },
  {
   "cell_type": "markdown",
   "metadata": {},
   "source": [
    "## Function to Generate Input File Structure\n",
    "\n",
    "The function generates an input file with the following structure:\n",
    "\n",
    "- Each line starts with a user ID in the format `User_i`, where `i` is a random number ranging from 1 to 1 million.\n",
    "- Following each user ID, there is a hash value of random number ranging from 1000 to 10000.\n",
    "\n",
    "Here's an example section of the generated file: \n",
    "```\n",
    "User_392253,74ed65a2d22a92c3b4e013c15ff04d05f4954cd792d9cf56e9a0edad5f914ed1\n",
    "User_852766,5901aee4bc888df51bde5904a4c56d0a68536fb5157e19001973286ceed51354\n",
    "User_513257,abbfc2b6da87b49139e8a13ce2ebf510818cfa6bc42e8cec990d36235dbb99bc\n",
    "User_646094,c8ace20a55c88e4d1fc94009b763c6690efa764f5e6497cc736acf069b1fbc82\n",
    "```"
   ]
  },
  {
   "cell_type": "code",
   "execution_count": 25,
   "metadata": {},
   "outputs": [],
   "source": [
    "NUM_LINES = 1_000_000\n",
    "MIN_VALUE_TO_HASH = 1\n",
    "MAX_VALUE_TO_HASH = 1_000_000"
   ]
  },
  {
   "cell_type": "code",
   "execution_count": 26,
   "metadata": {},
   "outputs": [],
   "source": [
    "def generate_input_file(file_name:str, num_lines=100, min_value_to_hash=1000, max_value_to_hash=10_000):\n",
    "    with open(file_name, 'w', newline='') as file:\n",
    "        writer = csv.writer(file)\n",
    "        writer.writerow(['Name', 'Hash Value'])  # set the first row of csv file which contains the heads of the colums\n",
    "        for _ in range(num_lines):\n",
    "            name = f'User_{random.randint(1, 1_000_000)}'\n",
    "            num = random.randint(min_value_to_hash, max_value_to_hash)\n",
    "            hash_value = hashlib.sha256(str(num).encode()).hexdigest()\n",
    "            writer.writerow([name, hash_value])\n",
    "\n",
    "# create source file\n",
    "generate_input_file('source.csv', NUM_LINES, MIN_VALUE_TO_HASH, MAX_VALUE_TO_HASH)"
   ]
  },
  {
   "cell_type": "markdown",
   "metadata": {},
   "source": [
    "### Function to break the hash values through a rainbow hacking method"
   ]
  },
  {
   "cell_type": "code",
   "execution_count": 32,
   "metadata": {},
   "outputs": [],
   "source": [
    "def rainbow_password_hack(hashed_dict, input_file_name, output_file_name):\n",
    "    # create dictionary with the structreu: {hash of a given numeber : number being hashed}\n",
    "    # global hashed_dict\n",
    "    \n",
    "    for num in range(MIN_VALUE_TO_HASH, MAX_VALUE_TO_HASH + 1):\n",
    "        # convert the number to a string and compute its hash value using sha256 algorithm.\n",
    "        hash_value = hashlib.sha256(str(num).encode()).hexdigest()\n",
    "        hashed_dict[hash_value] = num\n",
    "        \n",
    "    with open(input_file_name, 'r') as input_file:\n",
    "        next(input_file)  # skip the first line being the header of the file\n",
    "        lines = input_file.readlines()\n",
    "        \n",
    "    with open(output_file_name, 'w') as output_file:\n",
    "        for line in lines:\n",
    "            name, hash_value = line.strip().split(',')\n",
    "            output_file.write(f\"{name},{hashed_dict[hash_value]}\\n\")"
   ]
  },
  {
   "cell_type": "code",
   "execution_count": 33,
   "metadata": {},
   "outputs": [],
   "source": [
    "hashed_dict = {}\n",
    "rainbow_password_hack(hashed_dict, 'source.csv', 'result.csv')"
   ]
  }
 ],
 "metadata": {
  "kernelspec": {
   "display_name": "Python 3",
   "language": "python",
   "name": "python3"
  },
  "language_info": {
   "codemirror_mode": {
    "name": "ipython",
    "version": 3
   },
   "file_extension": ".py",
   "mimetype": "text/x-python",
   "name": "python",
   "nbconvert_exporter": "python",
   "pygments_lexer": "ipython3",
   "version": "3.11.1"
  }
 },
 "nbformat": 4,
 "nbformat_minor": 2
}
