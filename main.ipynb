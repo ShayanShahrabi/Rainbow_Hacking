{
 "cells": [
  {
   "cell_type": "markdown",
   "metadata": {},
   "source": [
    "### Necessary Libraries"
   ]
  },
  {
   "cell_type": "code",
   "execution_count": 19,
   "metadata": {},
   "outputs": [],
   "source": [
    "import hashlib\n",
    "import csv\n",
    "import random\n",
    "import time\n",
    "import threading\n",
    "import hashlib\n",
    "import concurrent.futures\n",
    "import hashlib\n",
    "import time\n",
    "import matplotlib.pyplot as plt"
   ]
  },
  {
   "cell_type": "markdown",
   "metadata": {},
   "source": [
    "### Function to Generate input file\n",
    "\n",
    "The function generates an input file with the following structure:\n",
    "\n",
    "- Each line starts with a user ID in the format `User_i`, where `i` is a random number ranging from 1 to 1 million.\n",
    "- Following each user ID, there is a hash value of random number ranging from 1000 to 10000.\n",
    "\n",
    "Here's an example section of the generated file: \n",
    "```\n",
    "User_392253,74ed65a2d22a92c3b4e013c15ff04d05f4954cd792d9cf56e9a0edad5f914ed1\n",
    "User_852766,5901aee4bc888df51bde5904a4c56d0a68536fb5157e19001973286ceed51354\n",
    "User_513257,abbfc2b6da87b49139e8a13ce2ebf510818cfa6bc42e8cec990d36235dbb99bc\n",
    "User_646094,c8ace20a55c88e4d1fc94009b763c6690efa764f5e6497cc736acf069b1fbc82\n",
    "```"
   ]
  },
  {
   "cell_type": "code",
   "execution_count": 9,
   "metadata": {},
   "outputs": [],
   "source": [
    "NUM_LINES = 1_000_000\n",
    "MIN_VALUE_TO_HASH = 1\n",
    "MAX_VALUE_TO_HASH = 1_000_000"
   ]
  },
  {
   "cell_type": "code",
   "execution_count": 11,
   "metadata": {},
   "outputs": [],
   "source": [
    "def generate_input_file(file_name:str, num_lines, min_value_to_hash, max_value_to_hash):\n",
    "    with open(file_name, 'w', newline='') as file:\n",
    "        writer = csv.writer(file)\n",
    "        writer.writerow(['Name', 'Hash Value'])  # set the first row of csv file which contains the headers of the colums\n",
    "        for _ in range(num_lines):\n",
    "            name = f'User_{random.randint(1, 1_000_000)}'\n",
    "            num = random.randint(min_value_to_hash, max_value_to_hash)\n",
    "            hash_value = hashlib.sha256(str(num).encode()).hexdigest()\n",
    "            writer.writerow([name, hash_value])\n",
    "\n",
    "# create source file\n",
    "generate_input_file('source.csv', NUM_LINES, MIN_VALUE_TO_HASH, MAX_VALUE_TO_HASH)"
   ]
  },
  {
   "cell_type": "markdown",
   "metadata": {},
   "source": [
    "### Function to break the hash values through a rainbow hacking method\n",
    "This is what the whole project was about! A simple function to make a dictionary with `keys` being hash values of different numbers and the `values` being the corresponding number to each hash value.\n",
    "\n",
    "It's worth pointing out that the algorithm used for hashing is the **SHA256 algorithm**."
   ]
  },
  {
   "cell_type": "code",
   "execution_count": 12,
   "metadata": {},
   "outputs": [],
   "source": [
    "def rainbow_password_hack(hashed_dict, input_file_name, output_file_name):\n",
    "    \n",
    "    for num in range(MIN_VALUE_TO_HASH, MAX_VALUE_TO_HASH + 1):\n",
    "        hash_value = hashlib.sha256(str(num).encode()).hexdigest()\n",
    "        hashed_dict[hash_value] = num\n",
    "        \n",
    "    with open(input_file_name, 'r') as input_file:\n",
    "        next(input_file)  # skip the first line which is the header of the file\n",
    "        lines = input_file.readlines()\n",
    "        \n",
    "    with open(output_file_name, 'w') as output_file:\n",
    "        for line in lines:\n",
    "            name, hash_value = line.strip().split(',')\n",
    "            output_file.write(f\"{name},{hashed_dict[hash_value]}\\n\")"
   ]
  },
  {
   "cell_type": "code",
   "execution_count": 14,
   "metadata": {},
   "outputs": [],
   "source": [
    "hashed_dict_1 = {}\n",
    "rainbow_password_hack(hashed_dict_1, 'source.csv', 'result.csv')"
   ]
  },
  {
   "cell_type": "markdown",
   "metadata": {},
   "source": [
    "Now opening the `result.csv` file, you can see that the hash values are all broken and the initial numbers are all found!"
   ]
  },
  {
   "cell_type": "markdown",
   "metadata": {},
   "source": [
    "> (The Following are ideas suggested by ChatGPT in order to improve the code and have a little fun with it! )\n"
   ]
  },
  {
   "cell_type": "markdown",
   "metadata": {},
   "source": [
    "### Using Multithreading and Batch Proccesing\n",
    "\n",
    "Batch processing is a method of executing tasks in a sequential manner without user interaction, commonly used for data processing and analysis. It offers several advantages such as improved efficiency, better resource management, non-interactive processing, data integrity, error handling, and scalability.\n",
    "\n",
    "The provided code demonstrates a multithreaded approach to crack passwords using a dictionary of hashed passwords. It processes passwords in batches, enhancing efficiency by leveraging multiple threads to work on cracking passwords simultaneously. This approach allows for efficient resource utilization and is suitable for non-interactive batch processing tasks. The code maintains data integrity by processing well-defined batches and can be scaled by adjusting the batch size. While the code lacks explicit error handling, it can be extended to include appropriate mechanisms."
   ]
  },
  {
   "cell_type": "code",
   "execution_count": 16,
   "metadata": {},
   "outputs": [],
   "source": [
    "def rainbow_password_hack_multithreaded(hashed_dict, input_file_name, output_file_name):\n",
    "    # function to process a batch of lines\n",
    "    def process_batch(lines):\n",
    "        for line in lines:\n",
    "            name, hash_value = line.strip().split(',')\n",
    "            output_file.write(f\"{name},{hashed_dict[hash_value]}\\n\")\n",
    "    \n",
    "    # create a lock to synchronize access to the output file\n",
    "    output_lock = threading.Lock()\n",
    "    \n",
    "    for num in range(MIN_VALUE_TO_HASH, MAX_VALUE_TO_HASH + 1):\n",
    "        hash_value = hashlib.sha256(str(num).encode()).hexdigest()\n",
    "        hashed_dict[hash_value] = num\n",
    "        \n",
    "    with open(input_file_name, 'r') as input_file, open(output_file_name, 'w') as output_file:\n",
    "        next(input_file)  # skip the first line being the header of the file\n",
    "        lines = input_file.readlines()\n",
    "        \n",
    "        # determine the batch size\n",
    "        batch_size = 100  # one can adjust this value to find an optimal batch size\n",
    "        \n",
    "        # create a list to hold the thread objects\n",
    "        threads = []\n",
    "        \n",
    "        for i in range(0, len(lines), batch_size):\n",
    "            # create a thread for each batch of lines\n",
    "            batch = lines[i:i+batch_size]\n",
    "            t = threading.Thread(target=process_batch, args=(batch,))\n",
    "            threads.append(t)\n",
    "            t.start()\n",
    "        \n",
    "        # wait for all threads to finish\n",
    "        for t in threads:\n",
    "            t.join()"
   ]
  },
  {
   "cell_type": "code",
   "execution_count": 9,
   "metadata": {},
   "outputs": [
    {
     "name": "stdout",
     "output_type": "stream",
     "text": [
      "It took 2.671334981918335 seconds to finish the task with multithreading\n"
     ]
    }
   ],
   "source": [
    "hashed_dict_2 = {}\n",
    "start_time = time.time()\n",
    "rainbow_password_hack_multithreaded(hashed_dict_2, 'source.csv', 'result.csv')\n",
    "end_time = time.time()\n",
    "print(f'It took {end_time - start_time} seconds to finish the task with multithreading')"
   ]
  },
  {
   "cell_type": "markdown",
   "metadata": {},
   "source": [
    "### Parallel Hashing\n",
    "The presented code showcases a parallel approach for a rainbow password hack using multithreading and the `concurrent.futures` module. It efficiently cracks hashed passwords by dividing them into batches and processing them in parallel. The code populates a dictionary with hash values for a given number range and then reads an input file containing hashed passwords. It writes the cracked passwords to an output file. Key points to note are:\n",
    "\n",
    "- Multithreading with `concurrent.futures` allows for parallel execution of tasks, enhancing performance.\n",
    "- Batch processing optimizes the cracking process by dividing the passwords into smaller units for parallel processing.\n",
    "- The code utilizes a thread pool executor to manage worker threads, with the number of threads determined by the num_threads parameter.\n",
    "- Tasks are submitted to the executor using executor.submit() and completed using concurrent.futures.as_completed().\n",
    "- Parallel processing offers benefits such as improved performance, efficient resource utilization, and scalability for larger password sets.\n",
    "\n",
    "By implementing this code, one can efficiently crack hashed passwords in a parallel and scalable manner, making it suitable for large-scale password cracking tasks."
   ]
  },
  {
   "cell_type": "code",
   "execution_count": 18,
   "metadata": {},
   "outputs": [],
   "source": [
    "def rainbow_password_hack_parallel(hashed_dict, input_file_name, output_file_name, num_threads):\n",
    "    for num in range(MIN_VALUE_TO_HASH, MAX_VALUE_TO_HASH + 1):\n",
    "        hash_value = hashlib.sha256(str(num).encode()).hexdigest()\n",
    "        hashed_dict[hash_value] = num\n",
    "\n",
    "    with open(input_file_name, 'r') as input_file, open(output_file_name, 'w') as output_file:\n",
    "        next(input_file)  # skip the first line being the header of the file\n",
    "        lines = input_file.readlines()\n",
    "\n",
    "        batch_size = 100\n",
    "        num_lines = len(lines)\n",
    "        num_batches = (num_lines + batch_size - 1) // batch_size\n",
    "\n",
    "        with concurrent.futures.ThreadPoolExecutor(max_workers=num_threads) as executor:\n",
    "            # Submit tasks to the executor for parallel processing\n",
    "            futures = []\n",
    "            for i in range(0, num_lines, batch_size):\n",
    "                batch = lines[i:i + batch_size]\n",
    "                future = executor.submit(process_batch, batch, hashed_dict, output_file_name)\n",
    "                futures.append(future)\n",
    "\n",
    "            # Wait for all tasks to complete\n",
    "            for future in concurrent.futures.as_completed(futures):\n",
    "                # Retrieve the result of each task (if needed)\n",
    "                result = future.result()\n",
    "\n",
    "        # All tasks have completed at this point\n",
    "        print(\"All tasks completed!\")\n",
    "\n",
    "def process_batch(lines, hashed_dict, output_file_name):\n",
    "    with open(output_file_name, 'a') as output_file:\n",
    "        for line in lines:\n",
    "            name, hash_value = line.strip().split(',')\n",
    "            output_file.write(f\"{name},{hashed_dict[hash_value]}\\n\")"
   ]
  },
  {
   "cell_type": "code",
   "execution_count": 20,
   "metadata": {},
   "outputs": [
    {
     "name": "stdout",
     "output_type": "stream",
     "text": [
      "All tasks completed!\n",
      "It took 2.7446000576019287 seconds to finish the task with multithreading\n"
     ]
    }
   ],
   "source": [
    "hashed_dict_3 = {}\n",
    "start_time = time.time()\n",
    "rainbow_password_hack_parallel(hashed_dict_3, 'source.csv', 'result.csv', 4)\n",
    "end_time = time.time()\n",
    "print(f'It took {end_time - start_time} seconds to finish the task with multithreading')"
   ]
  },
  {
   "cell_type": "markdown",
   "metadata": {},
   "source": [
    "### A quick comparison of the time it takes for these 3 methods to prepare the `result.csv` file"
   ]
  },
  {
   "cell_type": "code",
   "execution_count": 23,
   "metadata": {},
   "outputs": [
    {
     "name": "stdout",
     "output_type": "stream",
     "text": [
      "All tasks completed!\n",
      "All tasks completed!\n",
      "All tasks completed!\n",
      "All tasks completed!\n",
      "All tasks completed!\n",
      "All tasks completed!\n",
      "All tasks completed!\n",
      "All tasks completed!\n",
      "All tasks completed!\n",
      "All tasks completed!\n"
     ]
    },
    {
     "data": {
      "image/png": "[encoded data removed]",
      "text/plain": [
       "<Figure size 1200x600 with 1 Axes>"
      ]
     },
     "metadata": {},
     "output_type": "display_data"
    }
   ],
   "source": [
    "# Measure the execution time for each function\n",
    "times = []\n",
    "num_threads = 4  # Number of threads for parallel execution\n",
    "\n",
    "# Function 1: rainbow_password_hack\n",
    "time1 = 0\n",
    "for _ in range(10):\n",
    "    hashed_dict_1 = {}\n",
    "    start_time = time.time()\n",
    "    rainbow_password_hack(hashed_dict_1, 'source.csv', 'result.csv')\n",
    "    end_time = time.time()\n",
    "    time1 += (end_time - start_time) \n",
    "times.append(time1 / 10)\n",
    "\n",
    "# Function 2: rainbow_password_hack_multithreaded\n",
    "time2 = 0\n",
    "for _ in range(10):\n",
    "    hashed_dict_2 = {}\n",
    "    start_time = time.time()\n",
    "    rainbow_password_hack_multithreaded(hashed_dict_2, 'source.csv', 'result.csv')\n",
    "    end_time = time.time()\n",
    "    time2 += (end_time - start_time) \n",
    "times.append(time2 / 10)\n",
    "\n",
    "# Function 3: rainbow_password_hack_parallel\n",
    "time3 = 0\n",
    "for _ in range(10):\n",
    "    hashed_dict_3 = {}\n",
    "    start_time = time.time()\n",
    "    rainbow_password_hack_parallel(hashed_dict_3, 'source.csv', 'result.csv', 4)\n",
    "    end_time = time.time()\n",
    "    time3 += (end_time - start_time) \n",
    "times.append(time3 / 10)\n",
    "\n",
    "# Plot the execution times\n",
    "functions = [\"rainbow_password_hack\", \"rainbow_password_hack_multithreaded\", \"rainbow_password_hack_parallel\"]\n",
    "plt.figure(figsize=(12, 6))  # Adjust the figure size as needed\n",
    "plt.bar(functions, times)\n",
    "plt.xlabel(\"Functions\")\n",
    "plt.ylabel(\"Execution Time (seconds)\")\n",
    "plt.title(\"Execution Time Comparison\")\n",
    "plt.show()"
   ]
  },
  {
   "cell_type": "code",
   "execution_count": null,
   "metadata": {},
   "outputs": [],
   "source": []
  }
 ],
 "metadata": {
  "kernelspec": {
   "display_name": "Python 3 (ipykernel)",
   "language": "python",
   "name": "python3"
  },
  "language_info": {
   "codemirror_mode": {
    "name": "ipython",
    "version": 3
   },
   "file_extension": ".py",
   "mimetype": "text/x-python",
   "name": "python",
   "nbconvert_exporter": "python",
   "pygments_lexer": "ipython3",
   "version": "3.11.1"
  }
 },
 "nbformat": 4,
 "nbformat_minor": 2
}
